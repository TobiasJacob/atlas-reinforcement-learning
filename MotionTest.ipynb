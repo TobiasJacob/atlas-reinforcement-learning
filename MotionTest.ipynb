{
 "cells": [
  {
   "cell_type": "code",
   "execution_count": null,
   "metadata": {},
   "outputs": [],
   "source": [
    "from datetime import datetime\n",
    "import numpy as np\n",
    "import quaternion\n",
    "from stable_baselines3 import PPO\n",
    "from time import sleep\n",
    "\n",
    "from atlasrl.robots.AtlasRemoteEnv import AtlasRemoteEnv\n",
    "from atlasrl.robots.Constants import parameterNames"
   ]
  },
  {
   "cell_type": "code",
   "execution_count": null,
   "metadata": {},
   "outputs": [],
   "source": [
    "env = AtlasRemoteEnv()\n",
    "\n",
    "obs = env.reset()\n",
    "initialAngles = obs[16:46]\n",
    "\n",
    "print(initialAngles)"
   ]
  },
  {
   "cell_type": "code",
   "execution_count": null,
   "metadata": {},
   "outputs": [],
   "source": [
    "action = np.zeros(30)\n",
    "action = initialAngles\n",
    "action[parameterNames.index(\"back_bky\")] += 0.4\n",
    "# action[parameterNames.index(\"back_bkx\")] += 0.08\n",
    "obs, reward, done, info = env.step(action)\n",
    "# Parse obs\n",
    "Z = obs[0]\n",
    "orn = quaternion.as_float_array(info[\"orn\"])\n",
    "jointAngles = obs[16:46]\n",
    "jointSpeeds = obs[46:76]\n",
    "baseSpeed, baseOrn = obs[7:10], obs[13:16]\n",
    "print(obs)"
   ]
  },
  {
   "cell_type": "code",
   "execution_count": null,
   "metadata": {},
   "outputs": [],
   "source": [
    "env.close()"
   ]
  }
 ],
 "metadata": {
  "interpreter": {
   "hash": "7cc063e1a01a3c399ea1098c052fcb92918f743a71c532f5162c42475060d76a"
  },
  "kernelspec": {
   "display_name": "Python 3.7.12 64-bit ('env': venv)",
   "language": "python",
   "name": "python3"
  },
  "language_info": {
   "codemirror_mode": {
    "name": "ipython",
    "version": 3
   },
   "file_extension": ".py",
   "mimetype": "text/x-python",
   "name": "python",
   "nbconvert_exporter": "python",
   "pygments_lexer": "ipython3",
   "version": "3.7.12"
  },
  "orig_nbformat": 4
 },
 "nbformat": 4,
 "nbformat_minor": 2
}
