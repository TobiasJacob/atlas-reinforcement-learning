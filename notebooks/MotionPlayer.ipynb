{
 "cells": [
  {
   "cell_type": "code",
   "execution_count": null,
   "source": [
    "# small hack to change directory to root\n",
    "import os\n",
    "if '_initialized' not in locals():\n",
    "    os.chdir(\"..\")\n",
    "    _initialized = True"
   ],
   "outputs": [],
   "metadata": {}
  },
  {
   "cell_type": "code",
   "execution_count": null,
   "source": [
    "import json\n",
    "import quaternion\n",
    "from atlasrl.motions.MotionState import MotionState\n",
    "from atlasrl.motions.MotionReader import MotionReader\n",
    "import numpy as np\n",
    "from atlasrl.motions.QuaternionToAtlasEuler import convertQuaternionToAtlasEuler, convertQuaternionToAtlasEulerBack"
   ],
   "outputs": [],
   "metadata": {}
  },
  {
   "cell_type": "code",
   "execution_count": null,
   "source": [
    "q = quaternion.one"
   ],
   "outputs": [],
   "metadata": {}
  },
  {
   "cell_type": "code",
   "execution_count": null,
   "source": [
    "reader = MotionReader.readClip()"
   ],
   "outputs": [],
   "metadata": {}
  },
  {
   "cell_type": "code",
   "execution_count": null,
   "source": [
    "reader.getState(0.5)"
   ],
   "outputs": [],
   "metadata": {}
  },
  {
   "cell_type": "code",
   "execution_count": null,
   "source": [
    "state1 = reader.frames[0]\n",
    "state2 = reader.frames[1]\n",
    "alpha = 0.5"
   ],
   "outputs": [],
   "metadata": {}
  },
  {
   "cell_type": "code",
   "execution_count": null,
   "source": [
    "times = np.arange(0, 10, 0.03)\n",
    "for t in times[::40]:\n",
    "    print(reader.getState(t).rootRotation)"
   ],
   "outputs": [],
   "metadata": {}
  },
  {
   "cell_type": "code",
   "execution_count": null,
   "source": [
    "quaternion.rotate_vectors(quaternion.from_euler_angles([1, 0, 0]), np.array([0, 1, 0]))"
   ],
   "outputs": [],
   "metadata": {}
  },
  {
   "cell_type": "code",
   "execution_count": null,
   "source": [
    "%matplotlib notebook\n",
    "from matplotlib import pyplot as plt\n",
    "import numpy as np\n",
    "from mpl_toolkits.mplot3d import Axes3D\n",
    "from matplotlib import animation\n",
    "\n",
    "fig = plt.figure()\n",
    "ax = fig.add_subplot(projection='3d')\n",
    "\n",
    "legVec = np.array([0, -1, 0])\n",
    "\n",
    "def gen():\n",
    "    for t in times:\n",
    "        s = reader.getState(t)\n",
    "        rootRot = s.rootRotation\n",
    "        rootRot = quaternion.one\n",
    "        rootRotRight = quaternion.one\n",
    "        rootPos = s.rootPosition\n",
    "        vec1 = quaternion.rotate_vectors(rootRot * s.rightHipRotation * rootRotRight, legVec)\n",
    "        vec2 = quaternion.rotate_vectors(rootRot * quaternion.from_euler_angles([s.rightKneeRotation, 0, 0]) * rootRotRight, legVec)\n",
    "        yield rootPos + vec1, rootPos + vec1 + vec2, rootPos\n",
    "\n",
    "dataTotal = list(gen())\n",
    "data = np.array([v1 for v1, v2, v3 in dataTotal]).T\n",
    "data2 = np.array([v2 for v1, v2, v3 in dataTotal]).T\n",
    "dataRoot = np.array([v3 for v1, v2, v3 in dataTotal]).T\n",
    "line, = ax.plot(data[0, 0:1], data[1, 0:1], data[2, 0:1])\n",
    "line2, = ax.plot(np.zeros(2), np.zeros(2), np.zeros(2))\n",
    "line3, = ax.plot(data2[0, 0:1], data2[1, 0:1], data2[2, 0:1])\n",
    "line4, = ax.plot(np.zeros(2), np.zeros(2), np.zeros(2))\n",
    "\n",
    "def update(num, data, data2, dataRoot, line, line2, line3, line4):\n",
    "    line.set_data(data[:2, :num])\n",
    "    line.set_3d_properties(data[2, :num])\n",
    "    line2.set_data(np.array([dataRoot[0, num], data[0, num]]), np.array([dataRoot[1, num], data[1, num]]))\n",
    "    line2.set_3d_properties(np.array([dataRoot[2, num], data[2, num]]))\n",
    "    line3.set_data(data2[:2, :num])\n",
    "    line3.set_3d_properties(data2[2, :num])\n",
    "    line4.set_data(np.array([data[0, num], data2[0, num]]), np.array([data[1, num], data2[1, num]]))\n",
    "    line4.set_3d_properties(np.array([data[2, num], data2[2, num]]))\n",
    "\n",
    "# Setting the axes properties\n",
    "ax.set_xlim3d([0.0, 2.0])\n",
    "ax.set_xlabel('X')\n",
    "\n",
    "ax.set_ylim3d([-1.0, 1.0])\n",
    "ax.set_ylabel('Y')\n",
    "\n",
    "ax.set_zlim3d([-1.0, 1.0])\n",
    "ax.set_zlabel('Z')\n",
    "\n",
    "ani = animation.FuncAnimation(fig, update, len(times), fargs=(data, data2, dataRoot, line, line2, line3, line4), interval=100, blit=False)\n",
    "# ani.save('rightLeg.gif', writer='imagemagick')\n",
    "plt.show()\n"
   ],
   "outputs": [],
   "metadata": {}
  },
  {
   "cell_type": "code",
   "execution_count": null,
   "source": [
    "-1 % 2"
   ],
   "outputs": [],
   "metadata": {}
  },
  {
   "cell_type": "code",
   "execution_count": null,
   "source": [
    "%matplotlib notebook\n",
    "from matplotlib import pyplot as plt\n",
    "import numpy as np\n",
    "from mpl_toolkits.mplot3d import Axes3D\n",
    "from matplotlib import animation\n",
    "\n",
    "fig = plt.figure()\n",
    "ax = fig.add_subplot(projection='3d')\n",
    "\n",
    "legVec = np.array([0, -1, 0])\n",
    "\n",
    "def gen():\n",
    "    for t in times:\n",
    "        s = reader.getState(t)\n",
    "        rootRot = s.rootRotation\n",
    "        rootRotRight = quaternion.one\n",
    "        rootPos = s.rootPosition\n",
    "        rootPos = np.zeros(3)\n",
    "        vec1 = quaternion.rotate_vectors(rootRot * s.leftHipRotation * rootRotRight, legVec)\n",
    "        vec2 = quaternion.rotate_vectors(rootRot * quaternion.from_euler_angles([s.leftKneeRotation, 0, 0]) * rootRotRight, legVec)\n",
    "        yield rootPos + vec1, rootPos + vec1 + vec2, rootPos\n",
    "\n",
    "dataTotal = list(gen())\n",
    "data = np.array([v1 for v1, v2, v3 in dataTotal]).T\n",
    "data2 = np.array([v2 for v1, v2, v3 in dataTotal]).T\n",
    "dataRoot = np.array([v3 for v1, v2, v3 in dataTotal]).T\n",
    "line, = ax.plot(data[0, 0:1], data[1, 0:1], data[2, 0:1])\n",
    "line2, = ax.plot(np.zeros(2), np.zeros(2), np.zeros(2))\n",
    "line3, = ax.plot(data2[0, 0:1], data2[1, 0:1], data2[2, 0:1])\n",
    "line4, = ax.plot(np.zeros(2), np.zeros(2), np.zeros(2))\n",
    "\n",
    "def update(num, data, data2, dataRoot, line, line2, line3, line4):\n",
    "    line.set_data(data[:2, :num])\n",
    "    line.set_3d_properties(data[2, :num])\n",
    "    line2.set_data(np.array([dataRoot[0, num], data[0, num]]), np.array([dataRoot[1, num], data[1, num]]))\n",
    "    line2.set_3d_properties(np.array([dataRoot[2, num], data[2, num]]))\n",
    "    line3.set_data(data2[:2, :num])\n",
    "    line3.set_3d_properties(data2[2, :num])\n",
    "    line4.set_data(np.array([data[0, num], data2[0, num]]), np.array([data[1, num], data2[1, num]]))\n",
    "    line4.set_3d_properties(np.array([data[2, num], data2[2, num]]))\n",
    "\n",
    "# Setting the axes properties\n",
    "ax.set_xlim3d([0.0, 2.0])\n",
    "ax.set_xlabel('X')\n",
    "\n",
    "ax.set_ylim3d([-1.0, 1.0])\n",
    "ax.set_ylabel('Y')\n",
    "\n",
    "ax.set_zlim3d([-1.0, 1.0])\n",
    "ax.set_zlabel('Z')\n",
    "\n",
    "ani = animation.FuncAnimation(fig, update, len(times), fargs=(data, data2, dataRoot, line, line2, line3, line4), interval=100, blit=False)\n",
    "# ani.save('leftLeg.gif', writer='imagemagick')\n",
    "plt.show()\n"
   ],
   "outputs": [],
   "metadata": {
    "scrolled": false
   }
  },
  {
   "cell_type": "code",
   "execution_count": null,
   "source": [
    "%matplotlib notebook\n",
    "from matplotlib import pyplot as plt\n",
    "import numpy as np\n",
    "from mpl_toolkits.mplot3d import Axes3D\n",
    "from matplotlib import animation\n",
    "\n",
    "fig = plt.figure()\n",
    "ax = fig.add_subplot(projection='3d')\n",
    "\n",
    "legVec = np.array([0, -1, 0])\n",
    "\n",
    "def gen():\n",
    "    for t in times:\n",
    "        s = reader.getState(t)\n",
    "        rootRot = s.rootRotation\n",
    "        rootRotRight = quaternion.one\n",
    "        rootPos = s.rootPosition\n",
    "        rootPos = np.zeros(3)\n",
    "        vec1 = quaternion.rotate_vectors(rootRot * s.leftShoulderRotation * rootRotRight, legVec)\n",
    "        vec2 = quaternion.rotate_vectors(rootRot * quaternion.from_euler_angles([s.leftElbowRotation, 0, 0]) * rootRotRight, legVec)\n",
    "        yield rootPos + vec1, rootPos + vec1 + vec2, rootPos\n",
    "\n",
    "dataTotal = list(gen())\n",
    "data = np.array([v1 for v1, v2, v3 in dataTotal]).T\n",
    "data2 = np.array([v2 for v1, v2, v3 in dataTotal]).T\n",
    "dataRoot = np.array([v3 for v1, v2, v3 in dataTotal]).T\n",
    "line, = ax.plot(data[0, 0:1], data[1, 0:1], data[2, 0:1])\n",
    "line2, = ax.plot(np.zeros(2), np.zeros(2), np.zeros(2))\n",
    "line3, = ax.plot(data2[0, 0:1], data2[1, 0:1], data2[2, 0:1])\n",
    "line4, = ax.plot(np.zeros(2), np.zeros(2), np.zeros(2))\n",
    "\n",
    "def update(num, data, data2, dataRoot, line, line2, line3, line4):\n",
    "    line.set_data(data[:2, :num])\n",
    "    line.set_3d_properties(data[2, :num])\n",
    "    line2.set_data(np.array([dataRoot[0, num], data[0, num]]), np.array([dataRoot[1, num], data[1, num]]))\n",
    "    line2.set_3d_properties(np.array([dataRoot[2, num], data[2, num]]))\n",
    "    line3.set_data(data2[:2, :num])\n",
    "    line3.set_3d_properties(data2[2, :num])\n",
    "    line4.set_data(np.array([data[0, num], data2[0, num]]), np.array([data[1, num], data2[1, num]]))\n",
    "    line4.set_3d_properties(np.array([data[2, num], data2[2, num]]))\n",
    "\n",
    "# Setting the axes properties\n",
    "ax.set_xlim3d([0.0, 2.0])\n",
    "ax.set_xlabel('X')\n",
    "\n",
    "ax.set_ylim3d([-1.0, 1.0])\n",
    "ax.set_ylabel('Y')\n",
    "\n",
    "ax.set_zlim3d([-1.0, 1.0])\n",
    "ax.set_zlabel('Z')\n",
    "\n",
    "ani = animation.FuncAnimation(fig, update, len(times), fargs=(data, data2, dataRoot, line, line2, line3, line4), interval=100, blit=False)\n",
    "# ani.save('leftLeg.gif', writer='imagemagick')\n",
    "plt.show()\n"
   ],
   "outputs": [],
   "metadata": {}
  },
  {
   "cell_type": "code",
   "execution_count": null,
   "source": [
    "np.log(quaternion.one)"
   ],
   "outputs": [],
   "metadata": {}
  },
  {
   "cell_type": "code",
   "execution_count": null,
   "source": [
    "np.exp(np.log(quaternion.one))"
   ],
   "outputs": [],
   "metadata": {}
  },
  {
   "cell_type": "code",
   "execution_count": null,
   "source": [
    "quaternion.as_rotation_vector(quaternion.one)"
   ],
   "outputs": [],
   "metadata": {}
  },
  {
   "cell_type": "code",
   "execution_count": null,
   "source": [
    "quaternion.as_float_array(quaternion.one)"
   ],
   "outputs": [],
   "metadata": {}
  },
  {
   "cell_type": "code",
   "execution_count": null,
   "source": [
    "eulers = []\n",
    "times = np.linspace(0, 3, 1000)\n",
    "for t in times:\n",
    "    s = reader.getState(t)\n",
    "    eulers.append(convertQuaternionToAtlasEulerBack(s.chestRotation))\n",
    "eulers = np.array(eulers)   "
   ],
   "outputs": [],
   "metadata": {}
  },
  {
   "cell_type": "code",
   "execution_count": null,
   "source": [
    "plt.figure()\n",
    "plt.plot(times, eulers[:, 0])\n",
    "plt.plot(times, eulers[:, 1])\n",
    "plt.plot(times, eulers[:, 2])\n",
    "plt.show()\n",
    "plt.legend([\"EulerX\", \"EulerY\", \"EulerZ\"])"
   ],
   "outputs": [],
   "metadata": {}
  },
  {
   "cell_type": "code",
   "execution_count": null,
   "source": [
    "eulers = []\n",
    "times = np.linspace(0, 3, 1000)\n",
    "for t in times:\n",
    "    s = reader.getState(t)\n",
    "    eulers.append(convertQuaternionToAtlasEuler(s.rootRotation))\n",
    "#     eulers.append(quaternion.as_euler_angles(s.rootRotation))\n",
    "eulers = np.array(eulers)   \n",
    "plt.figure()\n",
    "plt.plot(times, eulers[:, 0])\n",
    "plt.plot(times, eulers[:, 1])\n",
    "plt.plot(times, eulers[:, 2])\n",
    "plt.show()\n",
    "plt.legend([\"EulerX\", \"EulerY\", \"EulerZ\"])"
   ],
   "outputs": [],
   "metadata": {}
  },
  {
   "cell_type": "code",
   "execution_count": null,
   "source": [
    "%matplotlib notebook\n",
    "from matplotlib import pyplot as plt\n",
    "import numpy as np\n",
    "from mpl_toolkits.mplot3d import Axes3D\n",
    "from matplotlib import animation\n",
    "\n",
    "fig = plt.figure()\n",
    "ax = fig.add_subplot(projection='3d')\n",
    "\n",
    "legVec = np.array([0, -1, 0])\n",
    "times = np.arange(0, 10, 0.025)\n",
    "\n",
    "def gen():\n",
    "    for t in times:\n",
    "        s = reader.getState(t)\n",
    "        rootRot = s.rootRotation\n",
    "        rootPos = s.rootPosition\n",
    "        rootPos = np.zeros(3)\n",
    "        vec1 = quaternion.rotate_vectors(rootRot * s.rootRotation, legVec)\n",
    "        yield rootPos + vec1, rootPos\n",
    "\n",
    "dataTotal = list(gen())\n",
    "data = np.array([v1 for v1, v3 in dataTotal]).T\n",
    "dataRoot = np.array([v3 for v1, v3 in dataTotal]).T\n",
    "line, = ax.plot(data[0, 0:1], data[1, 0:1], data[2, 0:1])\n",
    "line2, = ax.plot(np.zeros(2), np.zeros(2), np.zeros(2))\n",
    "\n",
    "def update(num, data, data2, dataRoot, line, line2):\n",
    "    line.set_data(data[:2, :num])\n",
    "    line.set_3d_properties(data[2, :num])\n",
    "    line2.set_data(np.array([dataRoot[0, num], data[0, num]]), np.array([dataRoot[1, num], data[1, num]]))\n",
    "    line2.set_3d_properties(np.array([dataRoot[2, num], data[2, num]]))\n",
    "\n",
    "# Setting the axes properties\n",
    "ax.set_xlim3d([0.0, 2.0])\n",
    "ax.set_xlabel('X')\n",
    "\n",
    "ax.set_ylim3d([-1.0, 1.0])\n",
    "ax.set_ylabel('Y')\n",
    "\n",
    "ax.set_zlim3d([-1.0, 1.0])\n",
    "ax.set_zlabel('Z')\n",
    "\n",
    "ani = animation.FuncAnimation(fig, update, len(times), fargs=(data, data2, dataRoot, line, line2), interval=100, blit=False)\n",
    "# ani.save('leftLeg.gif', writer='imagemagick')\n",
    "plt.show()\n"
   ],
   "outputs": [],
   "metadata": {}
  },
  {
   "cell_type": "code",
   "execution_count": null,
   "source": [],
   "outputs": [],
   "metadata": {}
  }
 ],
 "metadata": {
  "interpreter": {
   "hash": "f659a4b6c831ead74bdd2bcc0655c3490e3055b1fc20c97e51e64b21d4aa1c2a"
  },
  "kernelspec": {
   "display_name": "Python 3 (ipykernel)",
   "language": "python",
   "name": "python3"
  },
  "language_info": {
   "codemirror_mode": {
    "name": "ipython",
    "version": 3
   },
   "file_extension": ".py",
   "mimetype": "text/x-python",
   "name": "python",
   "nbconvert_exporter": "python",
   "pygments_lexer": "ipython3",
   "version": "3.7.12"
  }
 },
 "nbformat": 4,
 "nbformat_minor": 2
}